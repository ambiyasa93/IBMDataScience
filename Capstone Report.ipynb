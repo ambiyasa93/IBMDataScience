{
 "cells": [
  {
   "cell_type": "markdown",
   "metadata": {
    "collapsed": true
   },
   "source": [
    "# Capstone Project"
   ]
  },
  {
   "cell_type": "markdown",
   "metadata": {},
   "source": [
    "## Introduction"
   ]
  },
  {
   "cell_type": "markdown",
   "metadata": {},
   "source": [
    "One of the bank product is loan. in order to reduce risk of potential loss in revenue, a bank is taking a collateral for the loan. lot of people giving his/her home as a collateral. A collateral value is the estimated fair market value of an asset that is being used as loan collateral. Collateral value is determined by appraisal from a qualified expert. usually, the bank hire appraisal company to do this task. In this project, i will try to create a regression model for houses prices. the aim is helping the bank to estimate houses price for collateral appraisal, so the bank doesn't too much dependent on the appraisal company. \n",
    "\n",
    "This model audience is for banking company to help them determine houses price to help them appraise how much value of the houses that the customer offer for collateral.  "
   ]
  },
  {
   "cell_type": "markdown",
   "metadata": {},
   "source": [
    "## Dataset"
   ]
  },
  {
   "cell_type": "markdown",
   "metadata": {},
   "source": [
    "The data that will be used is house prices from King County an area in the US State of Washington, this data also covers Seattle. the data is taken from kaggle. here's the link to the data : <br> https://www.kaggle.com/shivachandel/kc-house-data/data <br> \n",
    "The dataset consisted of 21 variables and 21613 observations.\n",
    "\n",
    "The Variable is : <br>\n",
    "id : Unique Identifier <br>\n",
    "date : Date of the data, consist from year 2014 - 2015  <br>\n",
    "price : Price of the house<br>\n",
    "bedrooms : Number of Bedroom <br>\n",
    "bathrooms : No of Bathroom<br>\n",
    "sqft_living : Square Footage of interior living space<br>\n",
    "sqft_lot : Square Footage of land space<br>\n",
    "floors : No of Floor<br>\n",
    "waterfront : is the building overlooking waterfront or not<br>\n",
    "view : index 0 - 4 describing how good the view are<br>\n",
    "condition : index 1 - 5 condition of the apartement<br>\n",
    "grade : index 1 -13 describing how good the construction<br>\n",
    "sqft_above : Square Footage of building above ground level<br>\n",
    "sqft_basement : Square Footage of basement<br>\n",
    "yr_built : The year houses initially built<br>\n",
    "yr_renovated : the year of the house last renovation<br>\n",
    "zipcode : zipcode of the house<br>\n",
    "lat : latitude of the house<br>\n",
    "long : longitude of the house<br>\n",
    "sqft_living15 :Square Footage of interior living space 15 nearest neighbour <br>\n",
    "sqft_lot15 : Square Footage of land space 15 nearest neighbour<br>\n",
    "\n",
    "some change will be done to the houses dataset feature, such as change year built feature into age of building, and year renovated to become age of last renovation. zipcode to change into neighborhood, etc\n",
    "\n",
    "using the lat and long feature from houses price dataset, we will also search nearest venue using foursquare API. the radius that will be used is 1000 meter or 1 kilometer. the dataset from the foursquare API will be joined with the house price dataset and the venue will be grouped based on category. <br>to get better view of the eature, here's the example : houses A have properties like the feature that has been described above, and also houses A has 1 coffe shop ,1 hospital, near the location within radius. <br> And with all of the variable, we will create a model that will be able to estimate houses price and check which variable impacting the price."
   ]
  },
  {
   "cell_type": "code",
   "execution_count": null,
   "metadata": {},
   "outputs": [],
   "source": []
  }
 ],
 "metadata": {
  "kernelspec": {
   "display_name": "Python 3 (Spyder)",
   "language": "python3",
   "name": "python3"
  },
  "language_info": {
   "codemirror_mode": {
    "name": "ipython",
    "version": 3
   },
   "file_extension": ".py",
   "mimetype": "text/x-python",
   "name": "python",
   "nbconvert_exporter": "python",
   "pygments_lexer": "ipython3",
   "version": "3.7.4"
  }
 },
 "nbformat": 4,
 "nbformat_minor": 1
}
